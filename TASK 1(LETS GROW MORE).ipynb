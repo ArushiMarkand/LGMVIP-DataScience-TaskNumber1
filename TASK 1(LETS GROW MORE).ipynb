{
 "cells": [
  {
   "cell_type": "code",
   "execution_count": 1,
   "id": "3f080d37",
   "metadata": {},
   "outputs": [
    {
     "name": "stdout",
     "output_type": "stream",
     "text": [
      "Defaulting to user installation because normal site-packages is not writeable\n",
      "Requirement already satisfied: ucimlrepo in c:\\users\\arush\\appdata\\roaming\\python\\python310\\site-packages (0.0.3)\n",
      "Note: you may need to restart the kernel to use updated packages.\n"
     ]
    }
   ],
   "source": [
    "pip install -U ucimlrepo "
   ]
  },
  {
   "cell_type": "code",
   "execution_count": 2,
   "id": "7a1d2852",
   "metadata": {},
   "outputs": [],
   "source": [
    "from ucimlrepo import fetch_ucirepo \n",
    "  \n",
    "# fetching the dataset \n",
    "iris = fetch_ucirepo(id=50) "
   ]
  },
  {
   "cell_type": "code",
   "execution_count": 3,
   "id": "852a594f",
   "metadata": {},
   "outputs": [],
   "source": [
    "# data (as pandas dataframes) \n",
    "X = iris.data.features \n",
    "y = iris.data.targets "
   ]
  },
  {
   "cell_type": "code",
   "execution_count": 4,
   "id": "5778c92e",
   "metadata": {},
   "outputs": [
    {
     "name": "stdout",
     "output_type": "stream",
     "text": [
      "{'uci_id': 50, 'name': 'Image Segmentation', 'repository_url': 'https://archive.ics.uci.edu/dataset/50/image+segmentation', 'data_url': 'https://archive.ics.uci.edu/static/public/50/data.csv', 'abstract': 'Image data described by high-level numeric-valued attributes, 7 classes', 'area': 'Other', 'tasks': ['Classification'], 'characteristics': ['Multivariate'], 'num_instances': 2310, 'num_features': 19, 'feature_types': ['Real'], 'demographics': [], 'target_col': ['class'], 'index_col': None, 'has_missing_values': 'no', 'missing_values_symbol': None, 'year_of_dataset_creation': 1990, 'last_updated': 'Fri Oct 27 2023', 'dataset_doi': '10.24432/C5GP4N', 'creators': [], 'intro_paper': None, 'additional_info': {'summary': 'The instances were drawn randomly from a database of 7 outdoor images.  The images were handsegmented to create a classification for every pixel.  \\r\\n\\r\\n   Each instance is a 3x3 region.', 'purpose': None, 'funded_by': None, 'instances_represent': None, 'recommended_data_splits': None, 'sensitive_data': None, 'preprocessing_description': None, 'variable_info': '    1.  region-centroid-col:  the column of the center pixel of the region.\\r\\n    2.  region-centroid-row:  the row of the center pixel of the region.\\r\\n    3.  region-pixel-count:  the number of pixels in a region = 9.\\r\\n    4.  short-line-density-5:  the results of a line extractoin algorithm that counts how many lines of length 5 (any orientation) with low contrast, less than or equal to 5, go through the region.\\r\\n    5.  short-line-density-2:  same as short-line-density-5 but counts lines of high contrast, greater than 5.\\r\\n    6.  vedge-mean:  measure the contrast of horizontally adjacent pixels in the region.  There are 6, the mean and standard deviation are given.  This attribute is used as a vertical edge detector.\\r\\n    7.  vegde-sd:  (see 6)\\r\\n    8.  hedge-mean:  measures the contrast of vertically adjacent pixels. Used for horizontal line detection. \\r\\n    9.  hedge-sd: (see 8).\\r\\n    10. intensity-mean:  the average over the region of (R + G + B)/3\\r\\n    11. rawred-mean: the average over the region of the R value.\\r\\n    12. rawblue-mean: the average over the region of the B value.\\r\\n    13. rawgreen-mean: the average over the region of the G value.\\r\\n    14. exred-mean: measure the excess red:  (2R - (G + B))\\r\\n    15. exblue-mean: measure the excess blue:  (2B - (G + R))\\r\\n    16. exgreen-mean: measure the excess green:  (2G - (R + B))\\r\\n    17. value-mean:  3-d nonlinear transformation of RGB. (Algorithm can be found in Foley and VanDam, Fundamentals of Interactive Computer Graphics)\\r\\n    18. saturatoin-mean:  (see 17)\\r\\n    19. hue-mean:  (see 17)', 'citation': None}}\n"
     ]
    }
   ],
   "source": [
    "# metadata \n",
    "print(iris.metadata) "
   ]
  },
  {
   "cell_type": "code",
   "execution_count": 5,
   "id": "f8812013",
   "metadata": {},
   "outputs": [
    {
     "name": "stdout",
     "output_type": "stream",
     "text": [
      "                    name     role         type demographic  \\\n",
      "0                  class   Target  Categorical        None   \n",
      "1    region-centroid-col  Feature   Continuous        None   \n",
      "2    region-centroid-row  Feature   Continuous        None   \n",
      "3     region-pixel-count  Feature   Continuous        None   \n",
      "4   short-line-density-5  Feature   Continuous        None   \n",
      "5   short-line-density-2  Feature   Continuous        None   \n",
      "6             vedge-mean  Feature   Continuous        None   \n",
      "7               vedge-sd  Feature   Continuous        None   \n",
      "8             hedge-mean  Feature   Continuous        None   \n",
      "9               hedge-sd  Feature   Continuous        None   \n",
      "10        intensity-mean  Feature   Continuous        None   \n",
      "11           rawred-mean  Feature   Continuous        None   \n",
      "12          rawblue-mean  Feature   Continuous        None   \n",
      "13         rawgreen-mean  Feature   Continuous        None   \n",
      "14            exred-mean  Feature   Continuous        None   \n",
      "15           exblue-mean  Feature   Continuous        None   \n",
      "16          exgreen-mean  Feature   Continuous        None   \n",
      "17            value-mean  Feature   Continuous        None   \n",
      "18       saturation-mean  Feature   Continuous        None   \n",
      "19              hue-mean  Feature   Continuous        None   \n",
      "\n",
      "                                          description units missing_values  \n",
      "0                                                None  None             no  \n",
      "1        the column of the center pixel of the region  None             no  \n",
      "2           the row of the center pixel of the region  None             no  \n",
      "3                the number of pixels in a region = 9  None             no  \n",
      "4   the results of a line extractoin algorithm tha...  None             no  \n",
      "5   same as short-line-density-5 but counts lines ...  None             no  \n",
      "6   measure the contrast of horizontally adjacent ...  None             no  \n",
      "7                                               see 6  None             no  \n",
      "8   measures the contrast of vertically adjacent p...  None             no  \n",
      "9                                               see 8  None             no  \n",
      "10       the average over the region of (R + G + B)/3  None             no  \n",
      "11        the average over the region of the R value.  None             no  \n",
      "12        the average over the region of the B value.  None             no  \n",
      "13        the average over the region of the G value.  None             no  \n",
      "14            measure the excess red:  (2R - (G + B))  None             no  \n",
      "15           measure the excess blue:  (2B - (G + R))  None             no  \n",
      "16          measure the excess green:  (2G - (R + B))  None             no  \n",
      "17  3-d nonlinear transformation of RGB. (Algorith...  None             no  \n",
      "18                                             see 17  None             no  \n",
      "19                                             see 17  None             no  \n"
     ]
    }
   ],
   "source": [
    "# variable information \n",
    "print(iris.variables) "
   ]
  },
  {
   "cell_type": "code",
   "execution_count": null,
   "id": "1e1259fc",
   "metadata": {},
   "outputs": [],
   "source": []
  }
 ],
 "metadata": {
  "kernelspec": {
   "display_name": "Python 3 (ipykernel)",
   "language": "python",
   "name": "python3"
  },
  "language_info": {
   "codemirror_mode": {
    "name": "ipython",
    "version": 3
   },
   "file_extension": ".py",
   "mimetype": "text/x-python",
   "name": "python",
   "nbconvert_exporter": "python",
   "pygments_lexer": "ipython3",
   "version": "3.10.9"
  }
 },
 "nbformat": 4,
 "nbformat_minor": 5
}
